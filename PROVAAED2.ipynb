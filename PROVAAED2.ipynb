{
 "cells": [
  {
   "cell_type": "markdown",
   "id": "d51e062e-e5e6-4af1-a0ff-b410c636063f",
   "metadata": {},
   "source": [
    "# Guilherme Melo"
   ]
  },
  {
   "cell_type": "code",
   "execution_count": 4,
   "id": "f92f9f1c-03db-4463-856b-662e3ca8d118",
   "metadata": {},
   "outputs": [
    {
     "name": "stdout",
     "output_type": "stream",
     "text": [
      "3\n"
     ]
    }
   ],
   "source": [
    "class No:\n",
    "    \"\"\"Representa um nó na lista encadeada.\"\"\"\n",
    "    def __init__(self, valor):\n",
    "        self.valor = valor\n",
    "        self.proximo = None\n",
    "\n",
    "class ListaEncadeada:\n",
    "    \"\"\"Representa a lista encadeada em si.\"\"\"\n",
    "    def __init__(self):\n",
    "        self.inicio = None\n",
    "\n",
    "    def inserir(self, valor):\n",
    "        \"\"\"Insere um novo elemento no final da lista.\"\"\"\n",
    "        novo_no = No(valor)\n",
    "        if self.inicio is None:\n",
    "            self.inicio = novo_no\n",
    "        else:\n",
    "            atual = self.inicio\n",
    "            while atual.proximo:\n",
    "                atual = atual.proximo\n",
    "            atual.proximo = novo_no \n",
    "\n",
    "    def contar(self):\n",
    "        \"\"\"\n",
    "        Percorre a lista encadeada e conta o número total de elementos.\n",
    "        \"\"\"\n",
    "        # Inicializa o contador\n",
    "        contador = 0\n",
    "        # Ponto de partida\n",
    "        atual = self.inicio\n",
    "\n",
    "        # Percorre a lista até o fim (onde atual é None)\n",
    "        while atual is not None:\n",
    "            # Incrementa o contador para cada nó\n",
    "            contador += 1\n",
    "            # Move para o próximo nó\n",
    "            atual = atual.proximo\n",
    "\n",
    "        # Retorna o total\n",
    "        return contador\n",
    "\n",
    "# Exemplo de uso para teste\n",
    "\n",
    "lista = ListaEncadeada()\n",
    "\n",
    "# Inserindo números na lista encadeada:\n",
    "lista.inserir(5)\n",
    "lista.inserir(15)\n",
    "lista.inserir(25)\n",
    "\n",
    "# Contando o número de elementos:\n",
    "print(lista.contar())\n",
    "# Saída esperada: 3"
   ]
  }
 ],
 "metadata": {
  "kernelspec": {
   "display_name": "Python 3 (ipykernel)",
   "language": "python",
   "name": "python3"
  },
  "language_info": {
   "codemirror_mode": {
    "name": "ipython",
    "version": 3
   },
   "file_extension": ".py",
   "mimetype": "text/x-python",
   "name": "python",
   "nbconvert_exporter": "python",
   "pygments_lexer": "ipython3",
   "version": "3.13.5"
  }
 },
 "nbformat": 4,
 "nbformat_minor": 5
}
